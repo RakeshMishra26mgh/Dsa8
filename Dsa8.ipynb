{
  "nbformat": 4,
  "nbformat_minor": 0,
  "metadata": {
    "colab": {
      "provenance": [],
      "authorship_tag": "ABX9TyPjzuigJFn9udClHzPIiacY",
      "include_colab_link": true
    },
    "kernelspec": {
      "name": "python3",
      "display_name": "Python 3"
    },
    "language_info": {
      "name": "python"
    }
  },
  "cells": [
    {
      "cell_type": "markdown",
      "metadata": {
        "id": "view-in-github",
        "colab_type": "text"
      },
      "source": [
        "<a href=\"https://colab.research.google.com/github/RakeshMishra26mgh/Dsa8/blob/main/Dsa8.ipynb\" target=\"_parent\"><img src=\"https://colab.research.google.com/assets/colab-badge.svg\" alt=\"Open In Colab\"/></a>"
      ]
    },
    {
      "cell_type": "markdown",
      "source": [
        "Answer 1:-"
      ],
      "metadata": {
        "id": "q72z6-MRCNFM"
      }
    },
    {
      "cell_type": "code",
      "source": [
        "def ascii_sum(s1, s2):\n",
        "  sum = 0\n",
        "  freq = {}\n",
        "  for c in s1:\n",
        "    freq[c] = freq.get(c, 0) + 1\n",
        "  for c in s2:\n",
        "    if c in freq:\n",
        "      freq[c] -= 1\n",
        "    else:\n",
        "      sum += ord(c)\n",
        "  for c in freq:\n",
        "    if freq[c] != 0:\n",
        "      sum += abs(freq[c]) * ord(c)\n",
        "  return sum\n",
        "\n",
        "s1 = input(\"Enter the first string: \")\n",
        "s2 = input(\"Enter the second string: \")\n",
        "print(ascii_sum(s1,s2))"
      ],
      "metadata": {
        "id": "WTL58iMTCPrO"
      },
      "execution_count": null,
      "outputs": []
    },
    {
      "cell_type": "markdown",
      "source": [
        "Answer 2:-"
      ],
      "metadata": {
        "id": "Tdsp63EAlLbA"
      }
    },
    {
      "cell_type": "code",
      "source": [
        "def is_valid(s):\n",
        "  min_open = 0\n",
        "  max_open = 0\n",
        "  for c in s:\n",
        "    if c == '(':\n",
        "      min_open += 1\n",
        "      max_open += 1\n",
        "    elif c == ')':\n",
        "      min_open -= 1\n",
        "      max_open -= 1\n",
        "    else:\n",
        "      max_open += 1\n",
        "      min_open -= 1\n",
        "    if max_open < 0:\n",
        "      return False\n",
        "    if min_open < 0:\n",
        "      min_open = 0\n",
        "  return min_open == 0\n",
        "\n",
        "s = input(\"Enter a string containing only '(', ')' and '*': \")\n",
        "\n",
        "if not s:\n",
        "  print(\"The string is empty. No characters to check.\")\n",
        "  exit()\n",
        "elif any(c not in '()*' for c in s):\n",
        "  print(\"The string contains invalid characters. Only '(', ')' and '*' are allowed.\")\n",
        "  exit()\n",
        "\n",
        "print(\"The string is valid:\", is_valid(s))\n"
      ],
      "metadata": {
        "id": "84U1V6Z0lN1u"
      },
      "execution_count": null,
      "outputs": []
    },
    {
      "cell_type": "markdown",
      "source": [
        "Answer 3:-"
      ],
      "metadata": {
        "id": "N9EGbGcHmIFV"
      }
    },
    {
      "cell_type": "code",
      "source": [
        "def min_steps(word1, word2):\n",
        "  lcs = 0\n",
        "  dp = [[0] * (len(word2) + 1) for _ in range(len(word1) + 1)]\n",
        "  for i in range(1, len(word1) + 1):\n",
        "    for j in range(1, len(word2) + 1):\n",
        "      if word1[i - 1] == word2[j - 1]:\n",
        "        dp[i][j] = dp[i - 1][j - 1] + 1\n",
        "      else:\n",
        "        dp[i][j] = max(dp[i - 1][j], dp[i][j - 1])\n",
        "      lcs = max(dp[i][j], lcs)\n",
        "  return len(word1) + len(word2) - 2 * lcs\n",
        "\n",
        "word1 = input(\"Enter the first string: \")\n",
        "word2 = input(\"Enter the second string: \")\n",
        "\n",
        "if not word1 and not word2:\n",
        "  print(\"Both strings are empty. No characters to delete.\")\n",
        "  exit()\n",
        "elif not word1:\n",
        "  print(\"The first string is empty. The minimum number of steps is:\", len(word2))\n",
        "  exit()\n",
        "elif not word2:\n",
        "  print(\"The second string is empty. The minimum number of steps is:\", len(word1))\n",
        "  exit()\n",
        "elif word1 == word2:\n",
        "  print(\"Both strings are equal. No characters to delete.\")\n",
        "  exit()\n",
        "\n",
        "print(\"The minimum number of steps is:\", min_steps(word1, word2))\n"
      ],
      "metadata": {
        "id": "OemqZOfwmLJd"
      },
      "execution_count": null,
      "outputs": []
    },
    {
      "cell_type": "markdown",
      "source": [
        "Answer 4:-"
      ],
      "metadata": {
        "id": "vBWIn-cYnW6s"
      }
    },
    {
      "cell_type": "code",
      "source": [
        "class TreeNode:\n",
        "    def __init__(self, val):\n",
        "        self.val = val\n",
        "        self.left = None\n",
        "        self.right = None\n",
        "\n",
        "def str2tree(s):\n",
        "    if not s or not s[0].isdigit():\n",
        "        return None\n",
        "    i = s.find(\"(\")\n",
        "    if i == -1:\n",
        "        return TreeNode(int(s))\n",
        "    root = TreeNode(int(s[:i]))\n",
        "    stack = []\n",
        "    for j in range(i, len(s)):\n",
        "        if s[j] == \"(\":\n",
        "            stack.append(j)\n",
        "        elif s[j] == \")\":\n",
        "            start = stack.pop()\n",
        "            if not stack:\n",
        "                if not root.left:\n",
        "                    root.left = str2tree(s[start+1:j])\n",
        "                else:\n",
        "                    root.right = str2tree(s[start+1:j])\n",
        "    return root\n",
        "\n",
        "def print_tree(root):\n",
        "    if not root:\n",
        "        return []\n",
        "    queue = [root]\n",
        "    result = []\n",
        "    while queue:\n",
        "        size = len(queue)\n",
        "        for _ in range(size):\n",
        "            node = queue.pop(0)\n",
        "            result.append(node.val)\n",
        "            if node.left:\n",
        "                queue.append(node.left)\n",
        "            if node.right:\n",
        "                queue.append(node.right)\n",
        "    return result\n",
        "\n",
        "while True:\n",
        "    s = input(\"Enter a string representing a binary tree: \")\n",
        "    if s.count(\"(\") == s.count(\")\"):\n",
        "        break\n",
        "    else:\n",
        "        print(\"Invalid input. Please make sure the parentheses are balanced.\")\n",
        "\n",
        "root = str2tree(s)\n",
        "print(print_tree(root))\n"
      ],
      "metadata": {
        "id": "LP4LzrEb33xx"
      },
      "execution_count": null,
      "outputs": []
    },
    {
      "cell_type": "markdown",
      "source": [
        "Answer 5:-"
      ],
      "metadata": {
        "id": "DI4xppQYo2XD"
      }
    },
    {
      "cell_type": "code",
      "source": [
        "def compress(chars):\n",
        "  write = 0\n",
        "  start = 0\n",
        "  for i in range(len(chars)):\n",
        "    if i == len(chars) - 1 or chars[i] != chars[i + 1]:\n",
        "      chars[write] = chars[i]\n",
        "      write += 1\n",
        "      if i > start:\n",
        "        for digit in str(i - start + 1):\n",
        "          chars[write] = digit\n",
        "          write += 1\n",
        "      start = i + 1\n",
        "  return write\n",
        "\n",
        "user_input = input(\"Enter a list of characters separated by commas: \")\n",
        "\n",
        "if not user_input:\n",
        "  print(\"The input is empty. No characters to compress.\")\n",
        "  exit()\n",
        "chars = user_input.split(',')\n",
        "if any(len(c) != 1 for c in chars):\n",
        "  print(\"The input is invalid. Only single characters are allowed.\")\n",
        "  exit()\n",
        "\n",
        "new_length = compress(chars)\n",
        "print(\"The new length of the array is:\", new_length)\n",
        "print(\"The compressed array is:\", chars[:new_length])\n"
      ],
      "metadata": {
        "id": "Z65g091Qo5nL"
      },
      "execution_count": null,
      "outputs": []
    },
    {
      "cell_type": "markdown",
      "source": [
        "Answer 6:-"
      ],
      "metadata": {
        "id": "OiNKLi40p85i"
      }
    },
    {
      "cell_type": "code",
      "source": [
        "def are_anagrams(s, p):\n",
        "  return sorted(s) == sorted(p)\n",
        "\n",
        "s = input(\"Enter the first string: \")\n",
        "p = input(\"Enter the second string: \")\n",
        "\n",
        "if not s and not p:\n",
        "  print(\"Both strings are empty. No anagrams to find.\")\n",
        "  exit()\n",
        "elif not s:\n",
        "  print(\"The first string is empty. No anagrams to find.\")\n",
        "  exit()\n",
        "elif not p:\n",
        "  print(\"The second string is empty. No anagrams to find.\")\n",
        "  exit()\n",
        "elif len(p) > len(s):\n",
        "  print(\"The second string is longer than the first string. No anagrams to find.\")\n",
        "  exit()\n",
        "\n",
        "indices = []\n",
        "for i in range(len(s) - len(p) + 1):\n",
        "  substring = s[i:i + len(p)]\n",
        "  if are_anagrams(substring, p):\n",
        "    indices.append(i)\n",
        "print(\"The start indices of p's anagrams in s are:\", indices)\n"
      ],
      "metadata": {
        "id": "JqTj8EQBp-1j"
      },
      "execution_count": null,
      "outputs": []
    },
    {
      "cell_type": "markdown",
      "source": [
        "Answer 7:-"
      ],
      "metadata": {
        "id": "6khhU0tqqzkx"
      }
    },
    {
      "cell_type": "code",
      "source": [
        "def decode_string(s):\n",
        "  stack = []\n",
        "  curr_str = \"\"\n",
        "  curr_num = 0\n",
        "  for c in s:\n",
        "    if c.isdigit():\n",
        "      curr_num = curr_num * 10 + int(c)\n",
        "    elif c == '[':\n",
        "      stack.append(curr_str)\n",
        "      stack.append(curr_num)\n",
        "      curr_str = \"\"\n",
        "      curr_num = 0\n",
        "    elif c == ']':\n",
        "      num = stack.pop()\n",
        "      prev_str = stack.pop()\n",
        "      curr_str = prev_str + num * curr_str\n",
        "    else:\n",
        "      curr_str += c\n",
        "  return curr_str\n",
        "\n",
        "s = input(\"Enter an encoded string: \")\n",
        "\n",
        "if not s:\n",
        "  print(\"The input is empty. No string to decode.\")\n",
        "  exit()\n",
        "elif any(c not in '()[]0123456789abcdefghijklmnopqrstuvwxyz' for c in s):\n",
        "  print(\"The input contains invalid characters. Only '(', ')', '[', ']', digits and lowercase letters are allowed.\")\n",
        "  exit()\n",
        "elif s.count('(') != s.count(')') or s.count('[') != s.count(']'):\n",
        "  print(\"The input contains unbalanced brackets. The string cannot be decoded.\")\n",
        "  exit()\n",
        "\n",
        "print(\"The decoded string is:\", decode_string(s))\n"
      ],
      "metadata": {
        "id": "DwnIlTxNq192"
      },
      "execution_count": null,
      "outputs": []
    },
    {
      "cell_type": "markdown",
      "source": [
        "Answer 8:-"
      ],
      "metadata": {
        "id": "9Au1eS7Rr5yR"
      }
    },
    {
      "cell_type": "code",
      "source": [
        "def swap_two_letters(s, goal):\n",
        "  if not s or not goal:\n",
        "    return False\n",
        "  if len(s) != len(goal):\n",
        "    return False\n",
        "  diff = []\n",
        "  for i in range(len(s)):\n",
        "    if s[i] != goal[i]:\n",
        "      diff.append(i)\n",
        "  if len(diff) != 2:\n",
        "    return False\n",
        "  i, j = diff[0], diff[1]\n",
        "  return s[i] == goal[j] and s[j] == goal[i]\n",
        "\n",
        "s = input(\"Enter the first string: \")\n",
        "goal = input(\"Enter the second string: \")\n",
        "result = swap_two_letters(s, goal)\n",
        "print(result)\n"
      ],
      "metadata": {
        "id": "3XSJL8QGr9qh"
      },
      "execution_count": null,
      "outputs": []
    }
  ]
}